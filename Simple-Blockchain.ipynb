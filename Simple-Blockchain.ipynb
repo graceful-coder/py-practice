{
 "cells": [
  {
   "cell_type": "code",
   "execution_count": 7,
   "metadata": {},
   "outputs": [
    {
     "name": "stdout",
     "output_type": "stream",
     "text": [
      "4831274157211136518\n",
      "4831274157211136518\n"
     ]
    }
   ],
   "source": [
    "# Warm up to creating a BLOCKCHAIN:\n",
    "# Prove that two identical objects produce the same hash\n",
    "# Throughout this program, I chose to use tuples to hash\n",
    "# Tuples are immutable, so they are ideal for blockchain applications which depend on a stable, immutable ledger history\n",
    "\n",
    "tuple1 = (\"a\", \"b\", \"c\")\n",
    "tuple2 = (\"a\", \"b\", \"c\")\n",
    "\n",
    "print(hash(tuple1))\n",
    "print(hash(tuple2))"
   ]
  },
  {
   "cell_type": "code",
   "execution_count": 12,
   "metadata": {},
   "outputs": [],
   "source": [
    "# Create a BLOCKCHAIN\n",
    "# Each Block will have:\n",
    "#  1) List of Transactions \n",
    "#  2) Previous Hash \n",
    "#  3) A Hash i.e. a digital signature based on the list of transactions & previous hash\n",
    "\n",
    "class Block:\n",
    "\n",
    "    __previousHash = 0\n",
    "    __transactions = ()\n",
    "\n",
    "    __blockHash = 0\n",
    "\n",
    "    def __init__(self, previousHash, transactions):\n",
    "        self.__previousHash = previousHash\n",
    "        self.__transactions = transactions\n",
    "\n",
    "        contents = (hash(transactions), previousHash)\n",
    "\n",
    "        self.__blockHash = hash(contents)\n",
    "\n",
    "    def getPreviousHash(self):\n",
    "        return self.__previousHash\n",
    "\n",
    "    def getTransactions(self):\n",
    "        return self.__transactions\n",
    "\n",
    "    def getBlockHash(self):\n",
    "        return self.__blockHash\n",
    "\n",
    "\n"
   ]
  },
  {
   "cell_type": "code",
   "execution_count": 21,
   "metadata": {},
   "outputs": [
    {
     "name": "stdout",
     "output_type": "stream",
     "text": [
      "The digital signature i.e. the hash of the genesisBlock is  2810353772786078507\n",
      "The digital signature/hash of block2 is  -2508611723289663263\n",
      "The digital signature/hash of block3 is  -5413831236744478422\n"
     ]
    }
   ],
   "source": [
    "# Create three blocks that are chained together!\n",
    "\n",
    "\n",
    "# Creating the Genesis Block\n",
    "\n",
    "blockchain = []\n",
    "genesisTransactions = (\"satoshi sent Veronica 10 bitcoin\", \"hal finney sent Veronica 10 bitcoin\")\n",
    "genesisBlock = Block(0, genesisTransactions)\n",
    "\n",
    "print(\"The digital signature i.e. the hash of the genesisBlock is \", genesisBlock.getBlockHash())\n",
    "\n",
    "# Create blocks 2 and 3 which are each linked together by the previous block's hash\n",
    "\n",
    "block2transactions = (\"satoshi sent btc to starbucks\", \"satoshi rocks\")\n",
    "\n",
    "block2 = Block(genesisBlock.getBlockHash(), block2transactions)\n",
    "\n",
    "print(\"The digital signature/hash of block2 is \", block2.getBlockHash())\n",
    "\n",
    "block3transactions = (\"Veronica sent Jordan 10 btc\", \"Veronica sent 0.5 btc to starbucks\")\n",
    "\n",
    "block3 = Block(block2.getBlockHash(), block3transactions)\n",
    "\n",
    "print(\"The digital signature/hash of block3 is \", block3.getBlockHash())"
   ]
  }
 ],
 "metadata": {
  "kernelspec": {
   "display_name": "Python 3.7.11 ('dev')",
   "language": "python",
   "name": "python3"
  },
  "language_info": {
   "codemirror_mode": {
    "name": "ipython",
    "version": 3
   },
   "file_extension": ".py",
   "mimetype": "text/x-python",
   "name": "python",
   "nbconvert_exporter": "python",
   "pygments_lexer": "ipython3",
   "version": "3.7.11"
  },
  "orig_nbformat": 4,
  "vscode": {
   "interpreter": {
    "hash": "58d18c3120e4af82672d11cb893fec8e27c7b215f8379c7ef9699a55efe3110d"
   }
  }
 },
 "nbformat": 4,
 "nbformat_minor": 2
}
